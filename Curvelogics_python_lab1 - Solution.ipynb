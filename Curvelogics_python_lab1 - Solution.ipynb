{
  "nbformat": 4,
  "nbformat_minor": 0,
  "metadata": {
    "colab": {
      "name": "Curvelogics_python_lab1.ipynb",
      "provenance": []
    },
    "kernelspec": {
      "name": "python3",
      "display_name": "Python 3"
    }
  },
  "cells": [
    {
      "cell_type": "markdown",
      "metadata": {
        "id": "tdXisCIiwc06"
      },
      "source": [
        " 1.Write a program to that accepts the radius ‘r’ of a circle as user input \n",
        "\n",
        "\n",
        "and compute the area"
      ]
    },
    {
      "cell_type": "code",
      "metadata": {
        "id": "VTbCrS2zncAE",
        "colab": {
          "base_uri": "https://localhost:8080/"
        },
        "outputId": "eadacece-c41d-4dd5-dc1f-6db6f320cb61"
      },
      "source": [
        "# Please provide your answer below this line\n",
        "\n",
        "from math import pi\n",
        "r = float(input (\"Input the radius of the circle : \"))\n",
        "calculateArea = str(pi * r**2);\n",
        "\n",
        "print (\"The area of the circle with radius \" + str(r) + \" is: \" + calculateArea)\n"
      ],
      "execution_count": 52,
      "outputs": [
        {
          "output_type": "stream",
          "name": "stdout",
          "text": [
            "Input the radius of the circle : 2.3\n",
            "The area of the circle with radius 2.3 is: 16.619025137490002\n"
          ]
        }
      ]
    },
    {
      "cell_type": "markdown",
      "metadata": {
        "id": "OXz14APFwv93"
      },
      "source": [
        "2.Write a program to accept mark as user input then\n",
        "\n",
        " - if mark greater than or equal to 95 then print A+\n",
        "\n",
        " - if mark greater than or equal to 90 and mark less than 95 then print A\n",
        "\n",
        " - if mark greater than or equal to 85 and mark less than 90 then print B+\n",
        "\n",
        " - if mark greater than or equal to 80 and mark less than 85 then print B"
      ]
    },
    {
      "cell_type": "code",
      "metadata": {
        "id": "RpXHiBT0nu2F",
        "colab": {
          "base_uri": "https://localhost:8080/"
        },
        "outputId": "021f3bad-2242-4385-e19b-cbe50390d6fb"
      },
      "source": [
        "# Please provide your answer below this line\n",
        "mark = int (input (\"Enter the candidate mark for subject :- \"))\n",
        "per = ((mark))\n",
        "\n",
        "if per >= 95 :\n",
        "    print (\"Grade is 'A+'\")\n",
        "elif per >= 90 and per <= 94 :\n",
        "    print (\"Grade is 'A'\")\n",
        "elif per >= 85 and per <= 89 :\n",
        "    print (\"Grade is 'B+'\")\n",
        "elif per >= 80 and per <= 84 :\n",
        "    print (\"Grade is 'B'\")\n",
        "elif per <= 79 :\n",
        "    print (\"Poor Grade - retake the test\")\n"
      ],
      "execution_count": 53,
      "outputs": [
        {
          "output_type": "stream",
          "name": "stdout",
          "text": [
            "Enter the candidate mark for subject :- 98\n",
            "Grade is 'A+'\n"
          ]
        }
      ]
    },
    {
      "cell_type": "markdown",
      "metadata": {
        "id": "ChvYPYwnhEyH"
      },
      "source": [
        " 3.Write a program to find how many ‘ab’ substrings are there in the below two strings<br>\n",
        "“aaabbabbab”\n",
        "\n",
        "“aabbabbbaaaababaaab”"
      ]
    },
    {
      "cell_type": "code",
      "source": [
        "# Please provide your answer below this line\n",
        "\n",
        "str1 = 'aaabbabbab'\n",
        "str2 = 'aabbabbbaaaababaaab'\n",
        "substr = 'ab'\n",
        "\n",
        "result1 = str1.count(substr)\n",
        "result2 = str2.count(substr)\n",
        "\n",
        "print(\"Number of substrings in str1:\", result1)\n",
        "print(\"Number of substrings in str2:\", result2)\n"
      ],
      "metadata": {
        "id": "3lrWbjpQYntq",
        "colab": {
          "base_uri": "https://localhost:8080/"
        },
        "outputId": "27eb30b1-c220-47ec-aee0-073e581cc3c8"
      },
      "execution_count": 54,
      "outputs": [
        {
          "output_type": "stream",
          "name": "stdout",
          "text": [
            "Number of substrings in str1: 3\n",
            "Number of substrings in str2: 5\n"
          ]
        }
      ]
    },
    {
      "cell_type": "markdown",
      "metadata": {
        "id": "kFxWVkpaiUiJ"
      },
      "source": [
        " 4.Write a program to input two numbers by user and swap the number."
      ]
    },
    {
      "cell_type": "code",
      "metadata": {
        "id": "Trkxi9pMn3zq",
        "colab": {
          "base_uri": "https://localhost:8080/"
        },
        "outputId": "e5fbfc29-930b-48e2-bc5e-b4edc447b800"
      },
      "source": [
        "# Please provide your answer below this line\n",
        "\n",
        "a = int(input(\"Enter a number a: \"))\n",
        "b = int(input(\"Enter another number b: \"))\n",
        "\n",
        "print(\"Before Swapping two Numbers: a = {0} and b = {1}\".format(a, b))\n",
        "\n",
        "temp = a\n",
        "a = b\n",
        "b = temp\n",
        "\n",
        "print(\"After Swapping two Numbers: a = {0} and b = {1}\".format(a, b))\n"
      ],
      "execution_count": 55,
      "outputs": [
        {
          "output_type": "stream",
          "name": "stdout",
          "text": [
            "Enter a number a: 48\n",
            "Enter another number b: 85\n",
            "Before Swapping two Numbers: a = 48 and b = 85\n",
            "After Swapping two Numbers: a = 85 and b = 48\n"
          ]
        }
      ]
    },
    {
      "cell_type": "markdown",
      "metadata": {
        "id": "M1zRVXqAmgui"
      },
      "source": [
        " 6.Write a Python program to get the Fibonacci series between 0 to 50. <br>\n",
        "Note : The Fibonacci Sequence is the series of numbers :\n",
        "0, 1, 1, 2, 3, 5, 8, 13, 21, ...."
      ]
    },
    {
      "cell_type": "code",
      "metadata": {
        "id": "In3v8wWZn7t8",
        "colab": {
          "base_uri": "https://localhost:8080/"
        },
        "outputId": "390c17cb-2cd6-4141-b00a-b11ac42b19c3"
      },
      "source": [
        "# Please provide your answer below this line\n",
        "\n",
        "a,b=0,1\n",
        "\n",
        "while a<50:\n",
        "    print(a)\n",
        "    a,b = b,a+b"
      ],
      "execution_count": 47,
      "outputs": [
        {
          "output_type": "stream",
          "name": "stdout",
          "text": [
            "0\n",
            "1\n",
            "1\n",
            "2\n",
            "3\n",
            "5\n",
            "8\n",
            "13\n",
            "21\n",
            "34\n"
          ]
        }
      ]
    },
    {
      "cell_type": "markdown",
      "metadata": {
        "id": "Zk8IqBvRnoEA"
      },
      "source": [
        "7.Write a Python program to sum all the items in a list"
      ]
    },
    {
      "cell_type": "code",
      "metadata": {
        "id": "WLPXzRBqoCEi",
        "colab": {
          "base_uri": "https://localhost:8080/"
        },
        "outputId": "6ca93895-b7d2-49d2-d05d-3dc9669b19f1"
      },
      "source": [
        "# Please provide your answer below this line\n",
        "numlist = []\n",
        "num = int(input('Total number of list elements: '))\n",
        "\n",
        "for n in range(num):\n",
        "    numbers = int(input('Enter the number '))\n",
        "    numlist.append(numbers)\n",
        "\n",
        "print(\"Sum of all elements in given list is :\", sum(numlist))\n"
      ],
      "execution_count": 49,
      "outputs": [
        {
          "output_type": "stream",
          "name": "stdout",
          "text": [
            "Total number of list elements: 3\n",
            "Enter the number 89\n",
            "Enter the number 78\n",
            "Enter the number 51\n",
            "Sum of all elements in given list is : 218\n"
          ]
        }
      ]
    },
    {
      "cell_type": "markdown",
      "metadata": {
        "id": "Y1U-tYC63YxB"
      },
      "source": [
        "8.Write a Python program to get a single string from two given strings, separated by a space and swap the first two characters of each string.\n",
        "Sample String : 'abc', 'xyz'\n",
        "Expected Result : 'xyc abz'"
      ]
    },
    {
      "cell_type": "code",
      "metadata": {
        "id": "A_Dd69R5oGhq",
        "colab": {
          "base_uri": "https://localhost:8080/"
        },
        "outputId": "e4108a4d-3e3c-4a98-ce28-5c107cb18ba9"
      },
      "source": [
        "# Please provide your answer below this line\n",
        "\n",
        "def swap(a, b):\n",
        "  new_a = b[0:] + a[0:]\n",
        "  return new_a\n",
        "print(swap(' Giraffe', 'Monkey'))\n"
      ],
      "execution_count": 50,
      "outputs": [
        {
          "output_type": "stream",
          "name": "stdout",
          "text": [
            "Monkey Giraffe\n"
          ]
        }
      ]
    },
    {
      "cell_type": "markdown",
      "metadata": {
        "id": "4hRXgbD59o6T"
      },
      "source": [
        "9.Write a simple python 'module' with 3 functions to manage simple Bank Account transactions\n",
        "\n",
        "The module should contain 3 function\n",
        "\n",
        "1) Function for opening an account.\n",
        "\n",
        "2) Function to display and update account if amount is deposited.\n",
        "\n",
        "3) Function to display and update account if amount is withdrawn."
      ]
    },
    {
      "cell_type": "code",
      "metadata": {
        "id": "a6NSZ4uD0YuL"
      },
      "source": [
        "# Please provide your answer below this line\n",
        "\n",
        "\n",
        "\n",
        "\n",
        "\n",
        "\n",
        "\n",
        "\n",
        "\n",
        "\n",
        "\n"
      ],
      "execution_count": 51,
      "outputs": []
    },
    {
      "cell_type": "code",
      "source": [
        ""
      ],
      "metadata": {
        "id": "mN1JLMm4XeVe"
      },
      "execution_count": 23,
      "outputs": []
    }
  ]
}